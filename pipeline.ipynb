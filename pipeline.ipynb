{
 "cells": [
  {
   "cell_type": "code",
   "execution_count": 2,
   "metadata": {},
   "outputs": [],
   "source": [
    "import tekore as tk\n",
    "import json\n",
    "import os\n",
    "import pandas as pd"
   ]
  },
  {
   "cell_type": "code",
   "execution_count": 3,
   "metadata": {},
   "outputs": [],
   "source": [
    "# class to handle spotify login, authorisation, and instance creation\n",
    "class spotify_login:\n",
    "    def __init__ (self, client_id, client_secret, redirect_uri):\n",
    "        self.client_id = client_id\n",
    "        self.client_secret = client_secret\n",
    "        self.redirect_uri = redirect_uri\n",
    "    \n",
    "    def authenticate(self, scope=tk.scope.every, save=True):\n",
    "        if os.path.exists(\"config/login.cfg\"):\n",
    "            conf = tk.config_from_file(\"config/login.cfg\", return_refresh=True)\n",
    "            user_token = tk.refresh_user_token(*conf[:2], conf[3])\n",
    "        else:\n",
    "            user_token = tk.prompt_for_user_token(self.client_id, self.client_secret, self.redirect_uri, scope)\n",
    "\n",
    "        app_token = tk.request_client_token(self.client_id, self.client_secret)\n",
    "        instance = tk.Spotify(app_token, max_limits_on=False, chunked_on=True)\n",
    "        instance.token = user_token\n",
    "\n",
    "        if save:\n",
    "            config = (self.client_id, self.client_secret, self.redirect_uri, user_token.refresh_token)\n",
    "            tk.config_to_file(\"config/login.cfg\", config)\n",
    "\n",
    "        return instance"
   ]
  },
  {
   "cell_type": "code",
   "execution_count": 4,
   "metadata": {},
   "outputs": [],
   "source": [
    "# class to handle api requests\n",
    "class spotify_fetch:\n",
    "    def __init__(self, artists, albums, tracks):\n",
    "        self.artists = artists\n",
    "        self.albums = albums\n",
    "        self.tracks = tracks\n",
    "    \n",
    "    def artist_fetch():\n",
    "        return pd.DataFrame(instance.current_user_top_artists().items)\n",
    "\n",
    "    def album_fetch(artists):\n",
    "        spotify_albums = list()\n",
    "        for artist in artists.id.to_list():\n",
    "            albums = instance.artist_albums(artist, limit=50)\n",
    "            for album in albums.items:\n",
    "                record = album.__dict__\n",
    "                record['artist_id'] = artist\n",
    "                spotify_albums.append(record)\n",
    "        return pd.DataFrame(spotify_albums)\n",
    "\n",
    "    def track_fetch(albums):\n",
    "        spotify_tracks = list()\n",
    "        for album in albums.id.to_list():\n",
    "            tracks = instance.album_tracks(album, limit=50)\n",
    "            for track in tracks.items:\n",
    "                record = track.__dict__\n",
    "                record['album_id'] = album\n",
    "                spotify_tracks.append(record)  \n",
    "        return pd.DataFrame(spotify_tracks)\n"
   ]
  },
  {
   "cell_type": "code",
   "execution_count": 5,
   "metadata": {},
   "outputs": [],
   "source": [
    "# class to handle credential and data read/write\n",
    "class spotify_file:\n",
    "    def credentials():\n",
    "        with open(\"restricted/credentials.txt\") as f:\n",
    "            try:\n",
    "                return f.read().split(\"\\n\")\n",
    "            except:\n",
    "                raise Exception('Credential file is invalid')\n",
    "\n",
    "    def store(data):\n",
    "        for name, value in data.__dict__.items():\n",
    "            output = value.to_json(orient=\"records\")\n",
    "            with open(f\"datahub/raw/{name}.json\", \"w\") as f:\n",
    "                json.dump(output, f)"
   ]
  },
  {
   "cell_type": "code",
   "execution_count": 6,
   "metadata": {},
   "outputs": [],
   "source": [
    "spotify = spotify_login(*spotify_file.credentials()) # instance will open url and require user to C&P into terminal\n",
    "instance = spotify.authenticate()"
   ]
  },
  {
   "cell_type": "code",
   "execution_count": 7,
   "metadata": {},
   "outputs": [],
   "source": [
    "artists = spotify_fetch.artist_fetch()\n",
    "albums = spotify_fetch.album_fetch(artists)\n",
    "tracks = spotify_fetch.track_fetch(albums)"
   ]
  },
  {
   "cell_type": "code",
   "execution_count": 8,
   "metadata": {},
   "outputs": [],
   "source": [
    "dataframes = spotify_fetch(artists, albums, tracks)\n",
    "spotify_file.store(dataframes)"
   ]
  }
 ],
 "metadata": {
  "interpreter": {
   "hash": "7966114a7b502c95d91d60cd2abcdbcf130ffe90e053eda0dd3502ab4b087e53"
  },
  "kernelspec": {
   "display_name": "Python 3.10.1 64-bit ('.venv': venv)",
   "language": "python",
   "name": "python3"
  },
  "language_info": {
   "codemirror_mode": {
    "name": "ipython",
    "version": 3
   },
   "file_extension": ".py",
   "mimetype": "text/x-python",
   "name": "python",
   "nbconvert_exporter": "python",
   "pygments_lexer": "ipython3",
   "version": "3.10.1"
  },
  "orig_nbformat": 4
 },
 "nbformat": 4,
 "nbformat_minor": 2
}
