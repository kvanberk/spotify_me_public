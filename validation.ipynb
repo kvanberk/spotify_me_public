{
 "cells": [
  {
   "cell_type": "code",
   "execution_count": 1,
   "metadata": {},
   "outputs": [],
   "source": [
    "import json\n",
    "import pandas as pd\n",
    "from dataclasses import dataclass\n",
    "import glob\n",
    "import os.path"
   ]
  },
  {
   "cell_type": "code",
   "execution_count": 175,
   "metadata": {},
   "outputs": [],
   "source": [
    "# class to handle data reading and writing\n",
    "class spotify_file:\n",
    "    def read_directory():\n",
    "        files = glob.glob(\"datahub/raw/*\")\n",
    "        names = [os.path.basename(file).split(\".\")[0] for file in files]\n",
    "        return dict(zip(names, files))\n",
    "\n",
    "    def read_json(directory):\n",
    "        with open(directory) as f:\n",
    "            file = json.load(f)\n",
    "            return pd.read_json(file)\n",
    "\n",
    "    def store(data):\n",
    "        for name, value in data.__dict__.items():\n",
    "            output = value.drop_duplicates().to_json(orient=\"records\")\n",
    "            with open(f\"datahub/access/{name}.json\", \"w\") as f:\n",
    "                json.dump(output, f)"
   ]
  },
  {
   "cell_type": "code",
   "execution_count": 155,
   "metadata": {},
   "outputs": [],
   "source": [
    "# class to handle data unpackaging\n",
    "class spotify_process:\n",
    "    def spotify_artists(artists):\n",
    "        artists.external_urls = spotify_handle.handle_external_urls(artists.external_urls)\n",
    "        artists.followers = spotify_handle.handle_followers(artists.followers)\n",
    "        artists.images = spotify_handle.handle_image_urls(artists.images)\n",
    "        artists_genres = spotify_handle.handle_explode(artists[['id','genres']])\n",
    "        artists_external_urls = spotify_handle.handle_explode(artists[['id','external_urls']])\n",
    "        artists = spotify_handle.handle_drop(artists, ['external_urls','genres'])\n",
    "\n",
    "        return artists, artists_external_urls, artists_genres\n",
    "            \n",
    "    def spotify_albums(albums):\n",
    "        albums.external_urls = spotify_handle.handle_external_urls(albums.external_urls)\n",
    "        albums.images = spotify_handle.handle_image_urls(albums.images)\n",
    "        albums_markets = spotify_handle.handle_explode(albums[['id','available_markets']])\n",
    "        albums_external_urls = spotify_handle.handle_explode(albums[['id','external_urls']])\n",
    "        albums = spotify_handle.handle_drop(albums, ['artists','available_markets','external_urls'])\n",
    "\n",
    "        return albums, albums_external_urls, albums_markets\n",
    "\n",
    "    def spotify_tracks(tracks):\n",
    "        tracks.external_urls = spotify_handle.handle_external_urls(tracks.external_urls)\n",
    "        tracks_external_urls = spotify_handle.handle_explode(tracks[['id','external_urls']])\n",
    "        tracks_markets = spotify_handle.handle_explode(tracks[['id','available_markets']])\n",
    "        tracks = spotify_handle.handle_drop(tracks, ['artists','available_markets','external_urls'])\n",
    "\n",
    "        return tracks, tracks_external_urls, tracks_markets \n",
    "        "
   ]
  },
  {
   "cell_type": "code",
   "execution_count": 156,
   "metadata": {},
   "outputs": [],
   "source": [
    "# class to handle column unpackaging\n",
    "class spotify_handle:\n",
    "    def handle_external_urls(externals):\n",
    "        return externals.apply(lambda x: list(x.values()))\n",
    "        \n",
    "    def handle_image_urls(image):\n",
    "        return image.apply(pd.Series)[0].apply(pd.Series)['url']\n",
    "\n",
    "    def handle_followers(follower):\n",
    "        return follower.apply(pd.Series)['total']\n",
    "    \n",
    "    def handle_explode(dataframe):\n",
    "        return dataframe.explode(dataframe.columns[1])\n",
    "\n",
    "    def handle_drop(dataframe, columns):\n",
    "        return dataframe.drop(columns = columns)"
   ]
  },
  {
   "cell_type": "code",
   "execution_count": 172,
   "metadata": {},
   "outputs": [],
   "source": [
    "# class to handle data collation\n",
    "@dataclass\n",
    "class spotify_store:\n",
    "    artists: pd.DataFrame\n",
    "    artists_external_urls: pd.DataFrame\n",
    "    artists_genres: pd.DataFrame\n",
    "    albums: pd.DataFrame\n",
    "    albums_external_urls: pd.DataFrame\n",
    "    albums_markets: pd.DataFrame\n",
    "    tracks: pd.DataFrame\n",
    "    tracks_external_urls: pd.DataFrame\n",
    "    tracks_markets: pd.DataFrame"
   ]
  },
  {
   "cell_type": "code",
   "execution_count": 158,
   "metadata": {},
   "outputs": [],
   "source": [
    "files = spotify_file.read_directory()"
   ]
  },
  {
   "cell_type": "code",
   "execution_count": 159,
   "metadata": {},
   "outputs": [],
   "source": [
    "raw_artists = spotify_file.read_json(files['artists'])\n",
    "raw_albums = spotify_file.read_json(files['albums'])\n",
    "raw_tracks = spotify_file.read_json(files['tracks'])"
   ]
  },
  {
   "cell_type": "code",
   "execution_count": 160,
   "metadata": {},
   "outputs": [],
   "source": [
    "artists, artists_external_urls, artists_genres = spotify_process.spotify_artists(raw_artists)\n",
    "albums, albums_external_urls, albums_markets = spotify_process.spotify_albums(raw_albums)\n",
    "tracks, tracks_external_urls, tracks_markets = spotify_process.spotify_tracks(raw_tracks)"
   ]
  },
  {
   "cell_type": "code",
   "execution_count": 176,
   "metadata": {},
   "outputs": [],
   "source": [
    "dataframes = spotify_store(artists, artists_external_urls, artists_genres,albums, albums_external_urls, albums_markets,tracks, tracks_external_urls, tracks_markets)\n",
    "\n",
    "spotify_file.store(dataframes)"
   ]
  }
 ],
 "metadata": {
  "interpreter": {
   "hash": "7966114a7b502c95d91d60cd2abcdbcf130ffe90e053eda0dd3502ab4b087e53"
  },
  "kernelspec": {
   "display_name": "Python 3.10.1 64-bit ('.venv': venv)",
   "language": "python",
   "name": "python3"
  },
  "language_info": {
   "codemirror_mode": {
    "name": "ipython",
    "version": 3
   },
   "file_extension": ".py",
   "mimetype": "text/x-python",
   "name": "python",
   "nbconvert_exporter": "python",
   "pygments_lexer": "ipython3",
   "version": "3.10.1"
  },
  "orig_nbformat": 4
 },
 "nbformat": 4,
 "nbformat_minor": 2
}
